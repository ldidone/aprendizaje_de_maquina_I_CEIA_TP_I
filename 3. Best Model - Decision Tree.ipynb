{
  "nbformat": 4,
  "nbformat_minor": 0,
  "metadata": {
    "colab": {
      "name": "Decision Tree.ipynb",
      "provenance": [],
      "collapsed_sections": []
    },
    "kernelspec": {
      "name": "python3",
      "display_name": "Python 3"
    },
    "language_info": {
      "name": "python"
    },
    "accelerator": "GPU"
  },
  "cells": [
    {
      "cell_type": "markdown",
      "source": [
        "# Detección de fraude - Experimentación Decision Tree"
      ],
      "metadata": {
        "id": "Q6kr4ei28ijJ"
      }
    },
    {
      "cell_type": "markdown",
      "source": [
        "En el presente notebook, se pretende experimentar con un modelo de árbol de decición de mayor profundidad al de la etapa de experimentación, debido a que este modelo es el que mejores resultados arrojó."
      ],
      "metadata": {
        "id": "61rZ91HKGs5f"
      }
    },
    {
      "cell_type": "code",
      "source": [
        "# Cargamos las librerías necesarias\n",
        "import numpy as np\n",
        "import pandas as pd\n",
        "import matplotlib.pyplot as plt\n",
        "\n",
        "from pprint import pprint\n",
        "import sklearn.metrics\n",
        "\n",
        "from sklearn.pipeline import Pipeline\n",
        "from sklearn.compose import ColumnTransformer\n",
        "from sklearn.impute import SimpleImputer\n",
        "from sklearn.model_selection import train_test_split, GridSearchCV\n",
        "from sklearn.preprocessing import StandardScaler, OneHotEncoder\n",
        "from sklearn.metrics import accuracy_score,plot_confusion_matrix,roc_auc_score, classification_report, confusion_matrix, precision_recall_curve, auc\n",
        "from sklearn.tree import DecisionTreeClassifier\n",
        "\n",
        "from imblearn.over_sampling import RandomOverSampler\n",
        "\n",
        "import pickle\n",
        "\n",
        "from google.colab import drive"
      ],
      "metadata": {
        "id": "nkpQkjuf8myW"
      },
      "execution_count": null,
      "outputs": []
    },
    {
      "cell_type": "code",
      "source": [
        "# Nos conectamos con la unidad de Google Drive\n",
        "drive.mount('/content/drive/')"
      ],
      "metadata": {
        "colab": {
          "base_uri": "https://localhost:8080/"
        },
        "id": "u5WL26P78t1T",
        "outputId": "6da105c7-6c91-4a6e-98a0-011c0cbe1c0e"
      },
      "execution_count": null,
      "outputs": [
        {
          "output_type": "stream",
          "name": "stdout",
          "text": [
            "Drive already mounted at /content/drive/; to attempt to forcibly remount, call drive.mount(\"/content/drive/\", force_remount=True).\n"
          ]
        }
      ]
    },
    {
      "cell_type": "code",
      "source": [
        "# Levantamos el dataset\n",
        "df = pd.read_csv('/content/drive/MyDrive/Aprendizaje de máquina 1/TP 1/data/PS_20174392719_1491204439457_log.csv')"
      ],
      "metadata": {
        "id": "kR27aE3q_PFP"
      },
      "execution_count": null,
      "outputs": []
    },
    {
      "cell_type": "code",
      "source": [
        "# Visualizamos que los datos se hayan cargado correctamente\n",
        "df.head()"
      ],
      "metadata": {
        "colab": {
          "base_uri": "https://localhost:8080/",
          "height": 206
        },
        "id": "KYYDz8wz_-F4",
        "outputId": "63a5be93-3e7d-44b8-9ec2-6e097f3aafd8"
      },
      "execution_count": null,
      "outputs": [
        {
          "output_type": "execute_result",
          "data": {
            "text/plain": [
              "   step      type    amount     nameOrig  oldbalanceOrg  newbalanceOrig  \\\n",
              "0     1   PAYMENT   9839.64  C1231006815       170136.0       160296.36   \n",
              "1     1   PAYMENT   1864.28  C1666544295        21249.0        19384.72   \n",
              "2     1  TRANSFER    181.00  C1305486145          181.0            0.00   \n",
              "3     1  CASH_OUT    181.00   C840083671          181.0            0.00   \n",
              "4     1   PAYMENT  11668.14  C2048537720        41554.0        29885.86   \n",
              "\n",
              "      nameDest  oldbalanceDest  newbalanceDest  isFraud  isFlaggedFraud  \n",
              "0  M1979787155             0.0             0.0        0               0  \n",
              "1  M2044282225             0.0             0.0        0               0  \n",
              "2   C553264065             0.0             0.0        1               0  \n",
              "3    C38997010         21182.0             0.0        1               0  \n",
              "4  M1230701703             0.0             0.0        0               0  "
            ],
            "text/html": [
              "\n",
              "  <div id=\"df-39e33fa5-935d-4edf-93a7-1d537baa6d5b\">\n",
              "    <div class=\"colab-df-container\">\n",
              "      <div>\n",
              "<style scoped>\n",
              "    .dataframe tbody tr th:only-of-type {\n",
              "        vertical-align: middle;\n",
              "    }\n",
              "\n",
              "    .dataframe tbody tr th {\n",
              "        vertical-align: top;\n",
              "    }\n",
              "\n",
              "    .dataframe thead th {\n",
              "        text-align: right;\n",
              "    }\n",
              "</style>\n",
              "<table border=\"1\" class=\"dataframe\">\n",
              "  <thead>\n",
              "    <tr style=\"text-align: right;\">\n",
              "      <th></th>\n",
              "      <th>step</th>\n",
              "      <th>type</th>\n",
              "      <th>amount</th>\n",
              "      <th>nameOrig</th>\n",
              "      <th>oldbalanceOrg</th>\n",
              "      <th>newbalanceOrig</th>\n",
              "      <th>nameDest</th>\n",
              "      <th>oldbalanceDest</th>\n",
              "      <th>newbalanceDest</th>\n",
              "      <th>isFraud</th>\n",
              "      <th>isFlaggedFraud</th>\n",
              "    </tr>\n",
              "  </thead>\n",
              "  <tbody>\n",
              "    <tr>\n",
              "      <th>0</th>\n",
              "      <td>1</td>\n",
              "      <td>PAYMENT</td>\n",
              "      <td>9839.64</td>\n",
              "      <td>C1231006815</td>\n",
              "      <td>170136.0</td>\n",
              "      <td>160296.36</td>\n",
              "      <td>M1979787155</td>\n",
              "      <td>0.0</td>\n",
              "      <td>0.0</td>\n",
              "      <td>0</td>\n",
              "      <td>0</td>\n",
              "    </tr>\n",
              "    <tr>\n",
              "      <th>1</th>\n",
              "      <td>1</td>\n",
              "      <td>PAYMENT</td>\n",
              "      <td>1864.28</td>\n",
              "      <td>C1666544295</td>\n",
              "      <td>21249.0</td>\n",
              "      <td>19384.72</td>\n",
              "      <td>M2044282225</td>\n",
              "      <td>0.0</td>\n",
              "      <td>0.0</td>\n",
              "      <td>0</td>\n",
              "      <td>0</td>\n",
              "    </tr>\n",
              "    <tr>\n",
              "      <th>2</th>\n",
              "      <td>1</td>\n",
              "      <td>TRANSFER</td>\n",
              "      <td>181.00</td>\n",
              "      <td>C1305486145</td>\n",
              "      <td>181.0</td>\n",
              "      <td>0.00</td>\n",
              "      <td>C553264065</td>\n",
              "      <td>0.0</td>\n",
              "      <td>0.0</td>\n",
              "      <td>1</td>\n",
              "      <td>0</td>\n",
              "    </tr>\n",
              "    <tr>\n",
              "      <th>3</th>\n",
              "      <td>1</td>\n",
              "      <td>CASH_OUT</td>\n",
              "      <td>181.00</td>\n",
              "      <td>C840083671</td>\n",
              "      <td>181.0</td>\n",
              "      <td>0.00</td>\n",
              "      <td>C38997010</td>\n",
              "      <td>21182.0</td>\n",
              "      <td>0.0</td>\n",
              "      <td>1</td>\n",
              "      <td>0</td>\n",
              "    </tr>\n",
              "    <tr>\n",
              "      <th>4</th>\n",
              "      <td>1</td>\n",
              "      <td>PAYMENT</td>\n",
              "      <td>11668.14</td>\n",
              "      <td>C2048537720</td>\n",
              "      <td>41554.0</td>\n",
              "      <td>29885.86</td>\n",
              "      <td>M1230701703</td>\n",
              "      <td>0.0</td>\n",
              "      <td>0.0</td>\n",
              "      <td>0</td>\n",
              "      <td>0</td>\n",
              "    </tr>\n",
              "  </tbody>\n",
              "</table>\n",
              "</div>\n",
              "      <button class=\"colab-df-convert\" onclick=\"convertToInteractive('df-39e33fa5-935d-4edf-93a7-1d537baa6d5b')\"\n",
              "              title=\"Convert this dataframe to an interactive table.\"\n",
              "              style=\"display:none;\">\n",
              "        \n",
              "  <svg xmlns=\"http://www.w3.org/2000/svg\" height=\"24px\"viewBox=\"0 0 24 24\"\n",
              "       width=\"24px\">\n",
              "    <path d=\"M0 0h24v24H0V0z\" fill=\"none\"/>\n",
              "    <path d=\"M18.56 5.44l.94 2.06.94-2.06 2.06-.94-2.06-.94-.94-2.06-.94 2.06-2.06.94zm-11 1L8.5 8.5l.94-2.06 2.06-.94-2.06-.94L8.5 2.5l-.94 2.06-2.06.94zm10 10l.94 2.06.94-2.06 2.06-.94-2.06-.94-.94-2.06-.94 2.06-2.06.94z\"/><path d=\"M17.41 7.96l-1.37-1.37c-.4-.4-.92-.59-1.43-.59-.52 0-1.04.2-1.43.59L10.3 9.45l-7.72 7.72c-.78.78-.78 2.05 0 2.83L4 21.41c.39.39.9.59 1.41.59.51 0 1.02-.2 1.41-.59l7.78-7.78 2.81-2.81c.8-.78.8-2.07 0-2.86zM5.41 20L4 18.59l7.72-7.72 1.47 1.35L5.41 20z\"/>\n",
              "  </svg>\n",
              "      </button>\n",
              "      \n",
              "  <style>\n",
              "    .colab-df-container {\n",
              "      display:flex;\n",
              "      flex-wrap:wrap;\n",
              "      gap: 12px;\n",
              "    }\n",
              "\n",
              "    .colab-df-convert {\n",
              "      background-color: #E8F0FE;\n",
              "      border: none;\n",
              "      border-radius: 50%;\n",
              "      cursor: pointer;\n",
              "      display: none;\n",
              "      fill: #1967D2;\n",
              "      height: 32px;\n",
              "      padding: 0 0 0 0;\n",
              "      width: 32px;\n",
              "    }\n",
              "\n",
              "    .colab-df-convert:hover {\n",
              "      background-color: #E2EBFA;\n",
              "      box-shadow: 0px 1px 2px rgba(60, 64, 67, 0.3), 0px 1px 3px 1px rgba(60, 64, 67, 0.15);\n",
              "      fill: #174EA6;\n",
              "    }\n",
              "\n",
              "    [theme=dark] .colab-df-convert {\n",
              "      background-color: #3B4455;\n",
              "      fill: #D2E3FC;\n",
              "    }\n",
              "\n",
              "    [theme=dark] .colab-df-convert:hover {\n",
              "      background-color: #434B5C;\n",
              "      box-shadow: 0px 1px 3px 1px rgba(0, 0, 0, 0.15);\n",
              "      filter: drop-shadow(0px 1px 2px rgba(0, 0, 0, 0.3));\n",
              "      fill: #FFFFFF;\n",
              "    }\n",
              "  </style>\n",
              "\n",
              "      <script>\n",
              "        const buttonEl =\n",
              "          document.querySelector('#df-39e33fa5-935d-4edf-93a7-1d537baa6d5b button.colab-df-convert');\n",
              "        buttonEl.style.display =\n",
              "          google.colab.kernel.accessAllowed ? 'block' : 'none';\n",
              "\n",
              "        async function convertToInteractive(key) {\n",
              "          const element = document.querySelector('#df-39e33fa5-935d-4edf-93a7-1d537baa6d5b');\n",
              "          const dataTable =\n",
              "            await google.colab.kernel.invokeFunction('convertToInteractive',\n",
              "                                                     [key], {});\n",
              "          if (!dataTable) return;\n",
              "\n",
              "          const docLinkHtml = 'Like what you see? Visit the ' +\n",
              "            '<a target=\"_blank\" href=https://colab.research.google.com/notebooks/data_table.ipynb>data table notebook</a>'\n",
              "            + ' to learn more about interactive tables.';\n",
              "          element.innerHTML = '';\n",
              "          dataTable['output_type'] = 'display_data';\n",
              "          await google.colab.output.renderOutput(dataTable, element);\n",
              "          const docLink = document.createElement('div');\n",
              "          docLink.innerHTML = docLinkHtml;\n",
              "          element.appendChild(docLink);\n",
              "        }\n",
              "      </script>\n",
              "    </div>\n",
              "  </div>\n",
              "  "
            ]
          },
          "metadata": {},
          "execution_count": 4
        }
      ]
    },
    {
      "cell_type": "markdown",
      "source": [
        "### Pre-procesamiento de los datos"
      ],
      "metadata": {
        "id": "-mv5Te3mFaZQ"
      }
    },
    {
      "cell_type": "markdown",
      "source": [
        "#### 1. Renombrar columnas"
      ],
      "metadata": {
        "id": "g1N-gL8UFcyv"
      }
    },
    {
      "cell_type": "code",
      "source": [
        "# Renombrar columnas\n",
        "columns = {\n",
        "    'step': 'step',\n",
        "    'type': 'type',\n",
        "    'amount': 'amount',\n",
        "    'nameOrig': 'name_orig',\n",
        "    'oldbalanceOrg': 'old_balance_org',\n",
        "    'newbalanceOrig': 'new_balance_orig',\n",
        "    'nameDest': 'name_dest',\n",
        "    'oldbalanceDest': 'old_balance_dest',\n",
        "    'newbalanceDest': 'new_balance_dest',\n",
        "    'isFraud': 'is_fraud',\n",
        "    'isFlaggedFraud': 'is_flagged_fraud',\n",
        "}\n",
        "\n",
        "df.rename(columns=columns, inplace=True)"
      ],
      "metadata": {
        "id": "DIeNWGQgAoG-"
      },
      "execution_count": null,
      "outputs": []
    },
    {
      "cell_type": "markdown",
      "source": [
        "#### 2. Eliminar columnas innecesarias"
      ],
      "metadata": {
        "id": "hEq2kqVzFfNu"
      }
    },
    {
      "cell_type": "code",
      "source": [
        "# Eliminar columnas que no resultan útiles\n",
        "df.drop(columns=['name_orig', 'name_dest', 'is_flagged_fraud'], inplace=True)"
      ],
      "metadata": {
        "id": "zDP-QRw4BCK-"
      },
      "execution_count": null,
      "outputs": []
    },
    {
      "cell_type": "markdown",
      "source": [
        "#### 3. División de las variables predictoras (X) y variable objetivo (y)"
      ],
      "metadata": {
        "id": "sI-jrsz2FhOp"
      }
    },
    {
      "cell_type": "code",
      "source": [
        "# Definición de X e Y\n",
        "X = df[['type', 'step', 'amount', 'old_balance_org', 'new_balance_orig', 'old_balance_dest', 'new_balance_dest']]\n",
        "y = df[['is_fraud']]"
      ],
      "metadata": {
        "id": "h63JQ08xBD4m"
      },
      "execution_count": null,
      "outputs": []
    },
    {
      "cell_type": "markdown",
      "source": [
        "#### 4. Transformación de datos y pipeline de pre-procesamiento"
      ],
      "metadata": {
        "id": "HO9tSmN3Fjkt"
      }
    },
    {
      "cell_type": "code",
      "source": [
        "numeric_features = ['step', 'amount', 'old_balance_org', 'new_balance_orig', 'old_balance_dest', 'new_balance_dest']\n",
        "categorical_features = ['type']\n",
        "\n",
        "numeric_transformer = Pipeline(steps=[\n",
        "    ('imputer', SimpleImputer(strategy='median')),\n",
        "    ('scaler', StandardScaler())])\n",
        "\n",
        "categorical_transformer = OneHotEncoder(handle_unknown='ignore')\n",
        "\n",
        "preprocessor = ColumnTransformer(\n",
        "    transformers=[\n",
        "        ('num', numeric_transformer, numeric_features),\n",
        "        ('cat', categorical_transformer, categorical_features)])"
      ],
      "metadata": {
        "id": "wDlDg7nDBFJe"
      },
      "execution_count": null,
      "outputs": []
    },
    {
      "cell_type": "markdown",
      "source": [
        "#### 5. Separación en datos de entrenamiento y testeo"
      ],
      "metadata": {
        "id": "bO39BXc4FmbZ"
      }
    },
    {
      "cell_type": "code",
      "source": [
        "X_train, X_test, y_train, y_test = train_test_split(X, y, test_size=0.2, random_state=42, stratify=y)"
      ],
      "metadata": {
        "id": "j0oNNC9gBG6e"
      },
      "execution_count": null,
      "outputs": []
    },
    {
      "cell_type": "markdown",
      "source": [
        "### Preparación de la experimentación"
      ],
      "metadata": {
        "id": "zBv4ltI5FpIP"
      }
    },
    {
      "cell_type": "markdown",
      "source": [
        "#### 1. Definición del modelo"
      ],
      "metadata": {
        "id": "OF_YPeheFrdw"
      }
    },
    {
      "cell_type": "code",
      "source": [
        "decision_tree_model = Pipeline(steps=[('preprocessor', preprocessor),\n",
        "                       ('classifier', DecisionTreeClassifier(criterion='gini', max_depth=30))])"
      ],
      "metadata": {
        "id": "zKDvG_SKBIcm"
      },
      "execution_count": null,
      "outputs": []
    },
    {
      "cell_type": "markdown",
      "source": [
        "#### 2. Oversampling de los datos"
      ],
      "metadata": {
        "id": "8XBROEHLFulQ"
      }
    },
    {
      "cell_type": "code",
      "source": [
        "oversampler=RandomOverSampler(sampling_strategy='minority');\n",
        "\n",
        "X_train_os,y_train_os=oversampler.fit_resample(X_train, y_train);\n",
        "\n",
        "print('Composición del training set:')\n",
        "print(y_train_os.value_counts())\n",
        "\n",
        "print('\\nComposición del test set:')\n",
        "print(y_test.value_counts())"
      ],
      "metadata": {
        "colab": {
          "base_uri": "https://localhost:8080/"
        },
        "id": "uB0tC0aNCB0-",
        "outputId": "d4eac7ec-4dbc-492f-d99c-bac70f3e54a4"
      },
      "execution_count": null,
      "outputs": [
        {
          "output_type": "stream",
          "name": "stdout",
          "text": [
            "Composición del training set:\n",
            "is_fraud\n",
            "0           5083526\n",
            "1           5083526\n",
            "dtype: int64\n",
            "\n",
            "Composición del test set:\n",
            "is_fraud\n",
            "0           1270881\n",
            "1              1643\n",
            "dtype: int64\n"
          ]
        }
      ]
    },
    {
      "cell_type": "markdown",
      "source": [
        "#### 3. Definición de las métricas"
      ],
      "metadata": {
        "id": "KjYyOxCAFw0s"
      }
    },
    {
      "cell_type": "code",
      "source": [
        "def metric_report(y_test, y_pred, y_proba):  \n",
        "    print(classification_report(y_test, y_pred))  \n",
        "    print('Area bajo la curva ROC:',np.round(roc_auc_score(y_test, y_proba[:,1]), 4)) \n",
        "    precision, recall,threshold=precision_recall_curve(y_test, y_proba[:,1]);\n",
        "    print('Area bajo la curva Precision-Recall:',np.round(auc(recall, precision), 4))"
      ],
      "metadata": {
        "id": "rJLDnL-PCH9X"
      },
      "execution_count": null,
      "outputs": []
    },
    {
      "cell_type": "markdown",
      "source": [
        "## Entrenamiento del modelo"
      ],
      "metadata": {
        "id": "LT-JGSehF0Ri"
      }
    },
    {
      "cell_type": "code",
      "source": [
        "decision_tree_model.fit(X_train_os, y_train_os)"
      ],
      "metadata": {
        "colab": {
          "base_uri": "https://localhost:8080/"
        },
        "id": "37s3MUhhCO4u",
        "outputId": "32bfd91b-77e0-4304-c4f1-43729972be93"
      },
      "execution_count": null,
      "outputs": [
        {
          "output_type": "execute_result",
          "data": {
            "text/plain": [
              "Pipeline(steps=[('preprocessor',\n",
              "                 ColumnTransformer(transformers=[('num',\n",
              "                                                  Pipeline(steps=[('imputer',\n",
              "                                                                   SimpleImputer(strategy='median')),\n",
              "                                                                  ('scaler',\n",
              "                                                                   StandardScaler())]),\n",
              "                                                  ['step', 'amount',\n",
              "                                                   'old_balance_org',\n",
              "                                                   'new_balance_orig',\n",
              "                                                   'old_balance_dest',\n",
              "                                                   'new_balance_dest']),\n",
              "                                                 ('cat',\n",
              "                                                  OneHotEncoder(handle_unknown='ignore'),\n",
              "                                                  ['type'])])),\n",
              "                ('classifier', DecisionTreeClassifier(max_depth=30))])"
            ]
          },
          "metadata": {},
          "execution_count": 23
        }
      ]
    },
    {
      "cell_type": "markdown",
      "source": [
        "### Análisis del resultado obtenido"
      ],
      "metadata": {
        "id": "d2gF1SB7F4P6"
      }
    },
    {
      "cell_type": "code",
      "source": [
        "y_pred = decision_tree_model.predict(X_test)"
      ],
      "metadata": {
        "id": "zWhwRWL2D_9w"
      },
      "execution_count": null,
      "outputs": []
    },
    {
      "cell_type": "code",
      "source": [
        "y_proba = decision_tree_model.predict_proba(X_test)"
      ],
      "metadata": {
        "id": "HA00hJvzCWdO"
      },
      "execution_count": null,
      "outputs": []
    },
    {
      "cell_type": "code",
      "source": [
        "metric_report(y_test, y_pred, y_proba) "
      ],
      "metadata": {
        "colab": {
          "base_uri": "https://localhost:8080/"
        },
        "id": "Ud5l5DMzEDnI",
        "outputId": "ef0dd820-66f3-45d8-8ab1-18ce02805e5f"
      },
      "execution_count": null,
      "outputs": [
        {
          "output_type": "stream",
          "name": "stdout",
          "text": [
            "              precision    recall  f1-score   support\n",
            "\n",
            "           0       1.00      1.00      1.00   1270881\n",
            "           1       0.89      0.87      0.88      1643\n",
            "\n",
            "    accuracy                           1.00   1272524\n",
            "   macro avg       0.95      0.93      0.94   1272524\n",
            "weighted avg       1.00      1.00      1.00   1272524\n",
            "\n",
            "Area bajo la curva ROC: 0.9327\n",
            "Area bajo la curva Precision-Recall: 0.8788\n"
          ]
        }
      ]
    },
    {
      "cell_type": "code",
      "source": [
        "# save the model\n",
        "filename = '/content/drive/MyDrive/Aprendizaje de máquina 1/TP 1/models/decision_tree_30.sav'\n",
        "pickle.dump(decision_tree_model, open(filename, 'wb'))"
      ],
      "metadata": {
        "id": "3Kh9161TEESH"
      },
      "execution_count": null,
      "outputs": []
    },
    {
      "cell_type": "markdown",
      "source": [
        "### Conclusión:\n",
        "\n",
        "Hemos obtenido un modelo capaz de desempeñarse de manera correcta para la tarea de detección de fraude planteada.\n",
        "\n",
        "**Dicho modelo es un árbol de decisión con una profundidad de 30 niveles.**\n",
        "\n",
        "Es posible observar que el modelo performa de manera aceptable tanto para la clase mayoritaria como minoritaria en las 3 métricas principales: precision, recall y f1-score. A su vez, el AUC ROC es cercano a 1, lo que nos indica que las clases se están separando adecuadamente."
      ],
      "metadata": {
        "id": "hlRjr-tFF-el"
      }
    }
  ]
}