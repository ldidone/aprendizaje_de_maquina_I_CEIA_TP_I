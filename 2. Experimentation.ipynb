{
  "cells": [
    {
      "cell_type": "markdown",
      "id": "0dc74a74",
      "metadata": {
        "id": "0dc74a74"
      },
      "source": [
        "# Detección de fraude - Experimentación"
      ]
    },
    {
      "cell_type": "code",
      "execution_count": null,
      "id": "adfd9a5e",
      "metadata": {
        "id": "adfd9a5e"
      },
      "outputs": [],
      "source": [
        "# Cargamos las librerías necesarias\n",
        "import numpy as np\n",
        "import pandas as pd\n",
        "import matplotlib.pyplot as plt\n",
        "\n",
        "from pprint import pprint\n",
        "import sklearn.metrics\n",
        "\n",
        "from sklearn.pipeline import Pipeline\n",
        "from sklearn.compose import ColumnTransformer\n",
        "from sklearn.impute import SimpleImputer\n",
        "from sklearn.model_selection import train_test_split, GridSearchCV\n",
        "from sklearn.preprocessing import StandardScaler, OneHotEncoder\n",
        "from sklearn.metrics import accuracy_score,plot_confusion_matrix,roc_auc_score, classification_report, confusion_matrix, precision_recall_curve, auc\n",
        "\n",
        "from sklearn.base import BaseEstimator\n",
        "from sklearn.linear_model import LogisticRegressionCV\n",
        "from sklearn.tree import DecisionTreeClassifier\n",
        "from sklearn.ensemble import RandomForestClassifier\n",
        "from sklearn.svm import LinearSVC\n",
        "from sklearn.svm import SVC \n",
        "from sklearn.calibration import CalibratedClassifierCV\n",
        "\n",
        "from imblearn.over_sampling import RandomOverSampler\n",
        "\n",
        "import pickle\n",
        "\n",
        "from google.colab import drive"
      ]
    },
    {
      "cell_type": "code",
      "source": [
        "# Nos conectamos con la unidad de Google Drive\n",
        "drive.mount('/content/drive/')"
      ],
      "metadata": {
        "colab": {
          "base_uri": "https://localhost:8080/"
        },
        "id": "5fWRn2BfHIpM",
        "outputId": "0b828b36-38df-4895-d0a2-5e52be6ad0fd"
      },
      "id": "5fWRn2BfHIpM",
      "execution_count": null,
      "outputs": [
        {
          "output_type": "stream",
          "name": "stdout",
          "text": [
            "Mounted at /content/drive/\n"
          ]
        }
      ]
    },
    {
      "cell_type": "code",
      "execution_count": null,
      "id": "7994a81c",
      "metadata": {
        "id": "7994a81c"
      },
      "outputs": [],
      "source": [
        "# Levantamos el dataset\n",
        "df = pd.read_csv('/content/drive/MyDrive/Aprendizaje de máquina 1/TP 1/data/PS_20174392719_1491204439457_log.csv')"
      ]
    },
    {
      "cell_type": "code",
      "execution_count": null,
      "id": "30cfa2df",
      "metadata": {
        "colab": {
          "base_uri": "https://localhost:8080/",
          "height": 206
        },
        "id": "30cfa2df",
        "outputId": "197f3d23-410b-4b4a-9edc-cf5ce88e7685"
      },
      "outputs": [
        {
          "output_type": "execute_result",
          "data": {
            "text/plain": [
              "   step      type    amount     nameOrig  oldbalanceOrg  newbalanceOrig  \\\n",
              "0     1   PAYMENT   9839.64  C1231006815       170136.0       160296.36   \n",
              "1     1   PAYMENT   1864.28  C1666544295        21249.0        19384.72   \n",
              "2     1  TRANSFER    181.00  C1305486145          181.0            0.00   \n",
              "3     1  CASH_OUT    181.00   C840083671          181.0            0.00   \n",
              "4     1   PAYMENT  11668.14  C2048537720        41554.0        29885.86   \n",
              "\n",
              "      nameDest  oldbalanceDest  newbalanceDest  isFraud  isFlaggedFraud  \n",
              "0  M1979787155             0.0             0.0        0               0  \n",
              "1  M2044282225             0.0             0.0        0               0  \n",
              "2   C553264065             0.0             0.0        1               0  \n",
              "3    C38997010         21182.0             0.0        1               0  \n",
              "4  M1230701703             0.0             0.0        0               0  "
            ],
            "text/html": [
              "\n",
              "  <div id=\"df-aecc76c5-1b07-42e3-a8d0-635a017ff15d\">\n",
              "    <div class=\"colab-df-container\">\n",
              "      <div>\n",
              "<style scoped>\n",
              "    .dataframe tbody tr th:only-of-type {\n",
              "        vertical-align: middle;\n",
              "    }\n",
              "\n",
              "    .dataframe tbody tr th {\n",
              "        vertical-align: top;\n",
              "    }\n",
              "\n",
              "    .dataframe thead th {\n",
              "        text-align: right;\n",
              "    }\n",
              "</style>\n",
              "<table border=\"1\" class=\"dataframe\">\n",
              "  <thead>\n",
              "    <tr style=\"text-align: right;\">\n",
              "      <th></th>\n",
              "      <th>step</th>\n",
              "      <th>type</th>\n",
              "      <th>amount</th>\n",
              "      <th>nameOrig</th>\n",
              "      <th>oldbalanceOrg</th>\n",
              "      <th>newbalanceOrig</th>\n",
              "      <th>nameDest</th>\n",
              "      <th>oldbalanceDest</th>\n",
              "      <th>newbalanceDest</th>\n",
              "      <th>isFraud</th>\n",
              "      <th>isFlaggedFraud</th>\n",
              "    </tr>\n",
              "  </thead>\n",
              "  <tbody>\n",
              "    <tr>\n",
              "      <th>0</th>\n",
              "      <td>1</td>\n",
              "      <td>PAYMENT</td>\n",
              "      <td>9839.64</td>\n",
              "      <td>C1231006815</td>\n",
              "      <td>170136.0</td>\n",
              "      <td>160296.36</td>\n",
              "      <td>M1979787155</td>\n",
              "      <td>0.0</td>\n",
              "      <td>0.0</td>\n",
              "      <td>0</td>\n",
              "      <td>0</td>\n",
              "    </tr>\n",
              "    <tr>\n",
              "      <th>1</th>\n",
              "      <td>1</td>\n",
              "      <td>PAYMENT</td>\n",
              "      <td>1864.28</td>\n",
              "      <td>C1666544295</td>\n",
              "      <td>21249.0</td>\n",
              "      <td>19384.72</td>\n",
              "      <td>M2044282225</td>\n",
              "      <td>0.0</td>\n",
              "      <td>0.0</td>\n",
              "      <td>0</td>\n",
              "      <td>0</td>\n",
              "    </tr>\n",
              "    <tr>\n",
              "      <th>2</th>\n",
              "      <td>1</td>\n",
              "      <td>TRANSFER</td>\n",
              "      <td>181.00</td>\n",
              "      <td>C1305486145</td>\n",
              "      <td>181.0</td>\n",
              "      <td>0.00</td>\n",
              "      <td>C553264065</td>\n",
              "      <td>0.0</td>\n",
              "      <td>0.0</td>\n",
              "      <td>1</td>\n",
              "      <td>0</td>\n",
              "    </tr>\n",
              "    <tr>\n",
              "      <th>3</th>\n",
              "      <td>1</td>\n",
              "      <td>CASH_OUT</td>\n",
              "      <td>181.00</td>\n",
              "      <td>C840083671</td>\n",
              "      <td>181.0</td>\n",
              "      <td>0.00</td>\n",
              "      <td>C38997010</td>\n",
              "      <td>21182.0</td>\n",
              "      <td>0.0</td>\n",
              "      <td>1</td>\n",
              "      <td>0</td>\n",
              "    </tr>\n",
              "    <tr>\n",
              "      <th>4</th>\n",
              "      <td>1</td>\n",
              "      <td>PAYMENT</td>\n",
              "      <td>11668.14</td>\n",
              "      <td>C2048537720</td>\n",
              "      <td>41554.0</td>\n",
              "      <td>29885.86</td>\n",
              "      <td>M1230701703</td>\n",
              "      <td>0.0</td>\n",
              "      <td>0.0</td>\n",
              "      <td>0</td>\n",
              "      <td>0</td>\n",
              "    </tr>\n",
              "  </tbody>\n",
              "</table>\n",
              "</div>\n",
              "      <button class=\"colab-df-convert\" onclick=\"convertToInteractive('df-aecc76c5-1b07-42e3-a8d0-635a017ff15d')\"\n",
              "              title=\"Convert this dataframe to an interactive table.\"\n",
              "              style=\"display:none;\">\n",
              "        \n",
              "  <svg xmlns=\"http://www.w3.org/2000/svg\" height=\"24px\"viewBox=\"0 0 24 24\"\n",
              "       width=\"24px\">\n",
              "    <path d=\"M0 0h24v24H0V0z\" fill=\"none\"/>\n",
              "    <path d=\"M18.56 5.44l.94 2.06.94-2.06 2.06-.94-2.06-.94-.94-2.06-.94 2.06-2.06.94zm-11 1L8.5 8.5l.94-2.06 2.06-.94-2.06-.94L8.5 2.5l-.94 2.06-2.06.94zm10 10l.94 2.06.94-2.06 2.06-.94-2.06-.94-.94-2.06-.94 2.06-2.06.94z\"/><path d=\"M17.41 7.96l-1.37-1.37c-.4-.4-.92-.59-1.43-.59-.52 0-1.04.2-1.43.59L10.3 9.45l-7.72 7.72c-.78.78-.78 2.05 0 2.83L4 21.41c.39.39.9.59 1.41.59.51 0 1.02-.2 1.41-.59l7.78-7.78 2.81-2.81c.8-.78.8-2.07 0-2.86zM5.41 20L4 18.59l7.72-7.72 1.47 1.35L5.41 20z\"/>\n",
              "  </svg>\n",
              "      </button>\n",
              "      \n",
              "  <style>\n",
              "    .colab-df-container {\n",
              "      display:flex;\n",
              "      flex-wrap:wrap;\n",
              "      gap: 12px;\n",
              "    }\n",
              "\n",
              "    .colab-df-convert {\n",
              "      background-color: #E8F0FE;\n",
              "      border: none;\n",
              "      border-radius: 50%;\n",
              "      cursor: pointer;\n",
              "      display: none;\n",
              "      fill: #1967D2;\n",
              "      height: 32px;\n",
              "      padding: 0 0 0 0;\n",
              "      width: 32px;\n",
              "    }\n",
              "\n",
              "    .colab-df-convert:hover {\n",
              "      background-color: #E2EBFA;\n",
              "      box-shadow: 0px 1px 2px rgba(60, 64, 67, 0.3), 0px 1px 3px 1px rgba(60, 64, 67, 0.15);\n",
              "      fill: #174EA6;\n",
              "    }\n",
              "\n",
              "    [theme=dark] .colab-df-convert {\n",
              "      background-color: #3B4455;\n",
              "      fill: #D2E3FC;\n",
              "    }\n",
              "\n",
              "    [theme=dark] .colab-df-convert:hover {\n",
              "      background-color: #434B5C;\n",
              "      box-shadow: 0px 1px 3px 1px rgba(0, 0, 0, 0.15);\n",
              "      filter: drop-shadow(0px 1px 2px rgba(0, 0, 0, 0.3));\n",
              "      fill: #FFFFFF;\n",
              "    }\n",
              "  </style>\n",
              "\n",
              "      <script>\n",
              "        const buttonEl =\n",
              "          document.querySelector('#df-aecc76c5-1b07-42e3-a8d0-635a017ff15d button.colab-df-convert');\n",
              "        buttonEl.style.display =\n",
              "          google.colab.kernel.accessAllowed ? 'block' : 'none';\n",
              "\n",
              "        async function convertToInteractive(key) {\n",
              "          const element = document.querySelector('#df-aecc76c5-1b07-42e3-a8d0-635a017ff15d');\n",
              "          const dataTable =\n",
              "            await google.colab.kernel.invokeFunction('convertToInteractive',\n",
              "                                                     [key], {});\n",
              "          if (!dataTable) return;\n",
              "\n",
              "          const docLinkHtml = 'Like what you see? Visit the ' +\n",
              "            '<a target=\"_blank\" href=https://colab.research.google.com/notebooks/data_table.ipynb>data table notebook</a>'\n",
              "            + ' to learn more about interactive tables.';\n",
              "          element.innerHTML = '';\n",
              "          dataTable['output_type'] = 'display_data';\n",
              "          await google.colab.output.renderOutput(dataTable, element);\n",
              "          const docLink = document.createElement('div');\n",
              "          docLink.innerHTML = docLinkHtml;\n",
              "          element.appendChild(docLink);\n",
              "        }\n",
              "      </script>\n",
              "    </div>\n",
              "  </div>\n",
              "  "
            ]
          },
          "metadata": {},
          "execution_count": 4
        }
      ],
      "source": [
        "# Visualizamos que los datos se hayan cargado correctamente\n",
        "df.head()"
      ]
    },
    {
      "cell_type": "markdown",
      "id": "83d83652",
      "metadata": {
        "id": "83d83652"
      },
      "source": [
        "### Pre-procesamiento de los datos"
      ]
    },
    {
      "cell_type": "markdown",
      "id": "33acdee6",
      "metadata": {
        "id": "33acdee6"
      },
      "source": [
        "#### 1. Renombrar columnas"
      ]
    },
    {
      "cell_type": "code",
      "execution_count": null,
      "id": "9f2a487a",
      "metadata": {
        "id": "9f2a487a"
      },
      "outputs": [],
      "source": [
        "# Renombrar columnas\n",
        "columns = {\n",
        "    'step': 'step',\n",
        "    'type': 'type',\n",
        "    'amount': 'amount',\n",
        "    'nameOrig': 'name_orig',\n",
        "    'oldbalanceOrg': 'old_balance_org',\n",
        "    'newbalanceOrig': 'new_balance_orig',\n",
        "    'nameDest': 'name_dest',\n",
        "    'oldbalanceDest': 'old_balance_dest',\n",
        "    'newbalanceDest': 'new_balance_dest',\n",
        "    'isFraud': 'is_fraud',\n",
        "    'isFlaggedFraud': 'is_flagged_fraud',\n",
        "}\n",
        "\n",
        "df.rename(columns=columns, inplace=True)"
      ]
    },
    {
      "cell_type": "markdown",
      "id": "545c1bfc",
      "metadata": {
        "id": "545c1bfc"
      },
      "source": [
        "#### 2. Eliminar columnas innecesarias"
      ]
    },
    {
      "cell_type": "code",
      "execution_count": null,
      "id": "c2ed9c14",
      "metadata": {
        "id": "c2ed9c14"
      },
      "outputs": [],
      "source": [
        "# Eliminar columnas que no resultan útiles\n",
        "df.drop(columns=['name_orig', 'name_dest', 'is_flagged_fraud'], inplace=True)"
      ]
    },
    {
      "cell_type": "markdown",
      "id": "ef6f1173",
      "metadata": {
        "id": "ef6f1173"
      },
      "source": [
        "#### 3. División de las variables predictoras (X) y variable objetivo (y)"
      ]
    },
    {
      "cell_type": "code",
      "execution_count": null,
      "id": "495630f2",
      "metadata": {
        "id": "495630f2"
      },
      "outputs": [],
      "source": [
        "# Definición de X e Y\n",
        "X = df[['type', 'step', 'amount', 'old_balance_org', 'new_balance_orig', 'old_balance_dest', 'new_balance_dest']]\n",
        "y = df[['is_fraud']]"
      ]
    },
    {
      "cell_type": "markdown",
      "id": "639d11cf",
      "metadata": {
        "id": "639d11cf"
      },
      "source": [
        "#### 4. Transformación de datos y pipeline de pre-procesamiento"
      ]
    },
    {
      "cell_type": "code",
      "execution_count": null,
      "id": "f62a6674",
      "metadata": {
        "id": "f62a6674"
      },
      "outputs": [],
      "source": [
        "numeric_features = ['step', 'amount', 'old_balance_org', 'new_balance_orig', 'old_balance_dest', 'new_balance_dest']\n",
        "categorical_features = ['type']\n",
        "\n",
        "numeric_transformer = Pipeline(steps=[\n",
        "    ('imputer', SimpleImputer(strategy='median')),\n",
        "    ('scaler', StandardScaler())])\n",
        "\n",
        "categorical_transformer = OneHotEncoder(handle_unknown='ignore')\n",
        "\n",
        "preprocessor = ColumnTransformer(\n",
        "    transformers=[\n",
        "        ('num', numeric_transformer, numeric_features),\n",
        "        ('cat', categorical_transformer, categorical_features)])"
      ]
    },
    {
      "cell_type": "markdown",
      "id": "1dc71266",
      "metadata": {
        "id": "1dc71266"
      },
      "source": [
        "#### 5. Separación en datos de entrenamiento y testeo"
      ]
    },
    {
      "cell_type": "code",
      "execution_count": null,
      "id": "dc547997",
      "metadata": {
        "id": "dc547997"
      },
      "outputs": [],
      "source": [
        "X_train, X_test, y_train, y_test = train_test_split(X, y, test_size=0.2, random_state=42, stratify=y)"
      ]
    },
    {
      "cell_type": "markdown",
      "id": "0d1efa48",
      "metadata": {
        "id": "0d1efa48"
      },
      "source": [
        "### Preparación de la experimentación"
      ]
    },
    {
      "cell_type": "markdown",
      "id": "e434c05a",
      "metadata": {
        "id": "e434c05a"
      },
      "source": [
        "#### 1. Definición de los modelos"
      ]
    },
    {
      "cell_type": "code",
      "execution_count": null,
      "id": "fac4ea8e",
      "metadata": {
        "id": "fac4ea8e"
      },
      "outputs": [],
      "source": [
        "decision_tree_model = Pipeline(steps=[('preprocessor', preprocessor),\n",
        "                       ('classifier', DecisionTreeClassifier(criterion='entropy', max_depth=15))])\n",
        "\n",
        "random_forest_model = Pipeline(steps=[('preprocessor', preprocessor),\n",
        "                       ('classifier', RandomForestClassifier(criterion='entropy', max_depth=15))])\n",
        "\n",
        "linear_svc_model = Pipeline(steps=[('preprocessor', preprocessor),\n",
        "                       ('classifier', LinearSVC(tol=1e-5))])"
      ]
    },
    {
      "cell_type": "markdown",
      "id": "81f5e451",
      "metadata": {
        "id": "81f5e451"
      },
      "source": [
        "#### 2. Oversampling de los datos"
      ]
    },
    {
      "cell_type": "code",
      "execution_count": null,
      "id": "00bc3cd1",
      "metadata": {
        "colab": {
          "base_uri": "https://localhost:8080/"
        },
        "id": "00bc3cd1",
        "outputId": "dbeb94f3-ac09-4f2b-a057-95d41e6f52f6"
      },
      "outputs": [
        {
          "output_type": "stream",
          "name": "stdout",
          "text": [
            "Composición del training set:\n",
            "is_fraud\n",
            "0           5083526\n",
            "1           5083526\n",
            "dtype: int64\n",
            "\n",
            "Composición del test set:\n",
            "is_fraud\n",
            "0           1270881\n",
            "1              1643\n",
            "dtype: int64\n"
          ]
        }
      ],
      "source": [
        "oversampler=RandomOverSampler(sampling_strategy='minority');\n",
        "\n",
        "X_train_os,y_train_os=oversampler.fit_resample(X_train, y_train);\n",
        "\n",
        "print('Composición del training set:')\n",
        "print(y_train_os.value_counts())\n",
        "\n",
        "print('\\nComposición del test set:')\n",
        "print(y_test.value_counts())"
      ]
    },
    {
      "cell_type": "markdown",
      "id": "c7f7db7b",
      "metadata": {
        "id": "c7f7db7b"
      },
      "source": [
        "#### 3. Definición de las métricas"
      ]
    },
    {
      "cell_type": "code",
      "execution_count": null,
      "id": "18157849",
      "metadata": {
        "id": "18157849"
      },
      "outputs": [],
      "source": [
        "def metric_report(y_test, y_pred, y_proba=None):  \n",
        "    print(classification_report(y_test, y_pred))  \n",
        "    if y_proba is not None:\n",
        "        print('Area bajo la curva ROC:',np.round(roc_auc_score(y_test, y_proba[:,1]), 4)) \n",
        "        precision, recall,threshold=precision_recall_curve(y_test, y_proba[:,1]);\n",
        "        print('Area bajo la curva Precision-Recall:',np.round(auc(recall, precision), 4))"
      ]
    },
    {
      "cell_type": "markdown",
      "id": "a810c60e",
      "metadata": {
        "id": "a810c60e"
      },
      "source": [
        "## Experimentación"
      ]
    },
    {
      "cell_type": "markdown",
      "id": "0eec93fd",
      "metadata": {
        "id": "0eec93fd"
      },
      "source": [
        "### 1. Decision Tree"
      ]
    },
    {
      "cell_type": "code",
      "execution_count": null,
      "id": "1a938085",
      "metadata": {
        "colab": {
          "base_uri": "https://localhost:8080/"
        },
        "id": "1a938085",
        "outputId": "848cf124-4db4-45a5-fe7e-4bc709ce2ffc"
      },
      "outputs": [
        {
          "output_type": "execute_result",
          "data": {
            "text/plain": [
              "Pipeline(steps=[('preprocessor',\n",
              "                 ColumnTransformer(transformers=[('num',\n",
              "                                                  Pipeline(steps=[('imputer',\n",
              "                                                                   SimpleImputer(strategy='median')),\n",
              "                                                                  ('scaler',\n",
              "                                                                   StandardScaler())]),\n",
              "                                                  ['step', 'amount',\n",
              "                                                   'old_balance_org',\n",
              "                                                   'new_balance_orig',\n",
              "                                                   'old_balance_dest',\n",
              "                                                   'new_balance_dest']),\n",
              "                                                 ('cat',\n",
              "                                                  OneHotEncoder(handle_unknown='ignore'),\n",
              "                                                  ['type'])])),\n",
              "                ('classifier',\n",
              "                 DecisionTreeClassifier(criterion='entropy', max_depth=15))])"
            ]
          },
          "metadata": {},
          "execution_count": 13
        }
      ],
      "source": [
        "decision_tree_model.fit(X_train_os, y_train_os)"
      ]
    },
    {
      "cell_type": "code",
      "execution_count": null,
      "id": "42675161",
      "metadata": {
        "id": "42675161"
      },
      "outputs": [],
      "source": [
        "y_pred = decision_tree_model.predict(X_test)"
      ]
    },
    {
      "cell_type": "code",
      "execution_count": null,
      "id": "f60fc0df",
      "metadata": {
        "id": "f60fc0df"
      },
      "outputs": [],
      "source": [
        "y_proba = decision_tree_model.predict_proba(X_test)"
      ]
    },
    {
      "cell_type": "code",
      "execution_count": null,
      "id": "d01bab1a",
      "metadata": {
        "colab": {
          "base_uri": "https://localhost:8080/"
        },
        "id": "d01bab1a",
        "outputId": "a3c588aa-4a2a-4ecb-c39d-2fc33e7e5685"
      },
      "outputs": [
        {
          "output_type": "stream",
          "name": "stdout",
          "text": [
            "              precision    recall  f1-score   support\n",
            "\n",
            "           0       1.00      1.00      1.00   1270881\n",
            "           1       0.51      0.95      0.66      1643\n",
            "\n",
            "    accuracy                           1.00   1272524\n",
            "   macro avg       0.75      0.98      0.83   1272524\n",
            "weighted avg       1.00      1.00      1.00   1272524\n",
            "\n",
            "Area bajo la curva ROC: 0.9759\n",
            "Area bajo la curva Precision-Recall: 0.9222\n"
          ]
        }
      ],
      "source": [
        "metric_report(y_test, y_pred, y_proba) "
      ]
    },
    {
      "cell_type": "code",
      "execution_count": null,
      "id": "c0d9b9ac",
      "metadata": {
        "id": "c0d9b9ac"
      },
      "outputs": [],
      "source": [
        "# save the model\n",
        "filename = '/content/drive/MyDrive/Aprendizaje de máquina 1/TP 1/models/decision_tree_1.sav'\n",
        "pickle.dump(decision_tree_model, open(filename, 'wb'))"
      ]
    },
    {
      "cell_type": "markdown",
      "id": "8ef8a872",
      "metadata": {
        "id": "8ef8a872"
      },
      "source": [
        "### 2. Random Forest"
      ]
    },
    {
      "cell_type": "code",
      "execution_count": null,
      "id": "a1528154",
      "metadata": {
        "colab": {
          "base_uri": "https://localhost:8080/"
        },
        "id": "a1528154",
        "outputId": "1ff932ca-de53-47b6-ac81-dac1b5dd7d9d"
      },
      "outputs": [
        {
          "output_type": "stream",
          "name": "stderr",
          "text": [
            "/usr/local/lib/python3.7/dist-packages/sklearn/pipeline.py:394: DataConversionWarning: A column-vector y was passed when a 1d array was expected. Please change the shape of y to (n_samples,), for example using ravel().\n",
            "  self._final_estimator.fit(Xt, y, **fit_params_last_step)\n"
          ]
        },
        {
          "output_type": "execute_result",
          "data": {
            "text/plain": [
              "Pipeline(steps=[('preprocessor',\n",
              "                 ColumnTransformer(transformers=[('num',\n",
              "                                                  Pipeline(steps=[('imputer',\n",
              "                                                                   SimpleImputer(strategy='median')),\n",
              "                                                                  ('scaler',\n",
              "                                                                   StandardScaler())]),\n",
              "                                                  ['step', 'amount',\n",
              "                                                   'old_balance_org',\n",
              "                                                   'new_balance_orig',\n",
              "                                                   'old_balance_dest',\n",
              "                                                   'new_balance_dest']),\n",
              "                                                 ('cat',\n",
              "                                                  OneHotEncoder(handle_unknown='ignore'),\n",
              "                                                  ['type'])])),\n",
              "                ('classifier',\n",
              "                 RandomForestClassifier(criterion='entropy', max_depth=15))])"
            ]
          },
          "metadata": {},
          "execution_count": 18
        }
      ],
      "source": [
        "random_forest_model.fit(X_train_os, y_train_os)"
      ]
    },
    {
      "cell_type": "code",
      "execution_count": null,
      "id": "44964293",
      "metadata": {
        "id": "44964293"
      },
      "outputs": [],
      "source": [
        "y_pred = random_forest_model.predict(X_test)"
      ]
    },
    {
      "cell_type": "code",
      "execution_count": null,
      "id": "22bcaf69",
      "metadata": {
        "id": "22bcaf69"
      },
      "outputs": [],
      "source": [
        "y_proba = random_forest_model.predict_proba(X_test)"
      ]
    },
    {
      "cell_type": "code",
      "execution_count": null,
      "id": "5264b688",
      "metadata": {
        "colab": {
          "base_uri": "https://localhost:8080/"
        },
        "id": "5264b688",
        "outputId": "32fb2f24-6a29-458b-b927-d6f76d7d3715"
      },
      "outputs": [
        {
          "output_type": "stream",
          "name": "stdout",
          "text": [
            "              precision    recall  f1-score   support\n",
            "\n",
            "           0       1.00      0.99      1.00   1270881\n",
            "           1       0.20      0.98      0.33      1643\n",
            "\n",
            "    accuracy                           0.99   1272524\n",
            "   macro avg       0.60      0.99      0.66   1272524\n",
            "weighted avg       1.00      0.99      1.00   1272524\n",
            "\n",
            "Area bajo la curva ROC: 0.9991\n",
            "Area bajo la curva Precision-Recall: 0.9251\n"
          ]
        }
      ],
      "source": [
        "metric_report(y_test, y_pred, y_proba)"
      ]
    },
    {
      "cell_type": "code",
      "execution_count": null,
      "id": "c2cf0885",
      "metadata": {
        "id": "c2cf0885"
      },
      "outputs": [],
      "source": [
        "# save the model\n",
        "filename = '/content/drive/MyDrive/Aprendizaje de máquina 1/TP 1/models/random_forest_1.sav'\n",
        "pickle.dump(random_forest_model, open(filename, 'wb'))"
      ]
    },
    {
      "cell_type": "markdown",
      "id": "66d6f2ce",
      "metadata": {
        "id": "66d6f2ce"
      },
      "source": [
        "### 3. Linear SVC"
      ]
    },
    {
      "cell_type": "code",
      "execution_count": null,
      "id": "58f68b0c",
      "metadata": {
        "colab": {
          "base_uri": "https://localhost:8080/"
        },
        "id": "58f68b0c",
        "outputId": "c80b2148-bb6a-416b-cc31-c77e3566bbbe"
      },
      "outputs": [
        {
          "output_type": "stream",
          "name": "stderr",
          "text": [
            "/usr/local/lib/python3.7/dist-packages/sklearn/utils/validation.py:993: DataConversionWarning: A column-vector y was passed when a 1d array was expected. Please change the shape of y to (n_samples, ), for example using ravel().\n",
            "  y = column_or_1d(y, warn=True)\n",
            "/usr/local/lib/python3.7/dist-packages/sklearn/svm/_base.py:1208: ConvergenceWarning: Liblinear failed to converge, increase the number of iterations.\n",
            "  ConvergenceWarning,\n"
          ]
        },
        {
          "output_type": "execute_result",
          "data": {
            "text/plain": [
              "Pipeline(steps=[('preprocessor',\n",
              "                 ColumnTransformer(transformers=[('num',\n",
              "                                                  Pipeline(steps=[('imputer',\n",
              "                                                                   SimpleImputer(strategy='median')),\n",
              "                                                                  ('scaler',\n",
              "                                                                   StandardScaler())]),\n",
              "                                                  ['step', 'amount',\n",
              "                                                   'old_balance_org',\n",
              "                                                   'new_balance_orig',\n",
              "                                                   'old_balance_dest',\n",
              "                                                   'new_balance_dest']),\n",
              "                                                 ('cat',\n",
              "                                                  OneHotEncoder(handle_unknown='ignore'),\n",
              "                                                  ['type'])])),\n",
              "                ('classifier', LinearSVC(tol=1e-05))])"
            ]
          },
          "metadata": {},
          "execution_count": 23
        }
      ],
      "source": [
        "linear_svc_model.fit(X_train_os, y_train_os)"
      ]
    },
    {
      "cell_type": "code",
      "execution_count": null,
      "id": "503ecaf3",
      "metadata": {
        "id": "503ecaf3"
      },
      "outputs": [],
      "source": [
        "y_pred = linear_svc_model.predict(X_test)"
      ]
    },
    {
      "cell_type": "code",
      "execution_count": null,
      "id": "5cfb57af",
      "metadata": {
        "colab": {
          "base_uri": "https://localhost:8080/"
        },
        "id": "5cfb57af",
        "outputId": "9c338870-9a5f-4354-ea76-034db30013c8"
      },
      "outputs": [
        {
          "output_type": "stream",
          "name": "stdout",
          "text": [
            "              precision    recall  f1-score   support\n",
            "\n",
            "           0       1.00      0.95      0.97   1270881\n",
            "           1       0.02      0.94      0.04      1643\n",
            "\n",
            "    accuracy                           0.95   1272524\n",
            "   macro avg       0.51      0.94      0.51   1272524\n",
            "weighted avg       1.00      0.95      0.97   1272524\n",
            "\n"
          ]
        }
      ],
      "source": [
        "metric_report(y_test, y_pred)"
      ]
    },
    {
      "cell_type": "code",
      "execution_count": null,
      "id": "5813ed37",
      "metadata": {
        "id": "5813ed37"
      },
      "outputs": [],
      "source": [
        "# save the model\n",
        "filename = '/content/drive/MyDrive/Aprendizaje de máquina 1/TP 1/models/linear_svc_1.sav'\n",
        "pickle.dump(linear_svc_model, open(filename, 'wb'))"
      ]
    },
    {
      "cell_type": "markdown",
      "id": "1b306e07",
      "metadata": {
        "id": "1b306e07"
      },
      "source": [
        "### 4. SVC\n",
        "\n",
        "Se intentó entrenar un modelo de SVC con los siguientes parámetros:\n",
        "- C=50, \n",
        "- kernel='rbf'\n",
        "\n",
        "Sin embargo se interrumpió, debido a que no se logró la convergencia luego de 5 horas de entremaniento, tanto en un entorno local como en Google Colaboratory."
      ]
    },
    {
      "cell_type": "markdown",
      "source": [
        "## Análisis de resultados"
      ],
      "metadata": {
        "id": "mm5R0MfFBeq3"
      },
      "id": "mm5R0MfFBeq3"
    },
    {
      "cell_type": "markdown",
      "source": [
        "|     Metric/Model     |      Decision Tree     |    Random Forest   |     Linear SVC     |\n",
        "|:--------------------:|:----------------------:|:------------------:|:------------------:|\n",
        "| precision            | **0: 1.00 \\| 1: 0.51** | 0: 1.00 \\| 1: 0.20 | 0: 1.00 \\| 1: 0.02 |\n",
        "| recall               |   0: 1.00 \\| 1: 0.95   | 0: 0.99 \\| 1: 0.98 | 0: 0.95 \\| 1: 0.94 |\n",
        "| f1-score             | **0: 1.00 \\| 1: 0.66** | 0: 1.00 \\| 1: 0.33 | 0: 0.97 \\| 1: 0.04 |\n",
        "| accuracy             |          1.00          | 0.99               | 0.95               |\n",
        "| AUCROC               |         0.9759         |       0.9991       | -                  |\n",
        "| AUC Precision-Recall |         0.9222         |       0.9251       | -                  |"
      ],
      "metadata": {
        "id": "2PnmkZchBirr"
      },
      "id": "2PnmkZchBirr"
    },
    {
      "cell_type": "markdown",
      "source": [
        "### Conclusiones\n",
        "\n",
        "- Luego de experimentar con los siguientes modelos: Decision Tree, Random Forest y Linear SVC (Support Vector Machine), se llegó a la conclusión de que **el modelo que arroja mejores resultados para la métrica F1-Score es el Decision Tree**. \n",
        "\n",
        "- Se optó por el F1-Score como métrica, debido a que al ser la media armónica del precision y recall, permite mantener información conjunta de ambas, las cuales resultan muy importantes en problemas de clasificación binaria con datos desbalanceados ya que miden la precisión y la exhaustividad, respectivamente.\n",
        "\n",
        "- Próximos pasos: experimentar con diferentes parámetros sobre el modelo de Decision Tree con el objetivo de incrementar la performance del mismo."
      ],
      "metadata": {
        "id": "YKoRpSOoCmeS"
      },
      "id": "YKoRpSOoCmeS"
    }
  ],
  "metadata": {
    "kernelspec": {
      "display_name": "Python 3 (ipykernel)",
      "language": "python",
      "name": "python3"
    },
    "language_info": {
      "codemirror_mode": {
        "name": "ipython",
        "version": 3
      },
      "file_extension": ".py",
      "mimetype": "text/x-python",
      "name": "python",
      "nbconvert_exporter": "python",
      "pygments_lexer": "ipython3",
      "version": "3.9.5"
    },
    "colab": {
      "name": "2. Experimentation.ipynb",
      "provenance": [],
      "collapsed_sections": []
    }
  },
  "nbformat": 4,
  "nbformat_minor": 5
}